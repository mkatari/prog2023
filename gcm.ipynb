{
  "nbformat": 4,
  "nbformat_minor": 0,
  "metadata": {
    "colab": {
      "provenance": []
    },
    "kernelspec": {
      "name": "python3",
      "display_name": "Python 3"
    },
    "language_info": {
      "name": "python"
    }
  },
  "cells": [
    {
      "cell_type": "code",
      "execution_count": 4,
      "metadata": {
        "id": "4NosDJe-JWdE"
      },
      "outputs": [],
      "source": [
        "def gcd(a, b):\n",
        "  print(str(a)+\" \"+str(b)+\"\\n\")\n",
        "  if b == 0:\n",
        "    return a\n",
        "  else:\n",
        "    return gcd(b, (a % b))"
      ]
    },
    {
      "cell_type": "code",
      "source": [
        "gcd(1220,516)"
      ],
      "metadata": {
        "colab": {
          "base_uri": "https://localhost:8080/"
        },
        "id": "h3ZKWxLVdKWm",
        "outputId": "9029f68d-4227-4cb6-efaa-e9d0e58de33f"
      },
      "execution_count": 5,
      "outputs": [
        {
          "output_type": "stream",
          "name": "stdout",
          "text": [
            "1220 516\n",
            "\n",
            "516 188\n",
            "\n",
            "188 140\n",
            "\n",
            "140 48\n",
            "\n",
            "48 44\n",
            "\n",
            "44 4\n",
            "\n",
            "4 0\n",
            "\n"
          ]
        },
        {
          "output_type": "execute_result",
          "data": {
            "text/plain": [
              "4"
            ]
          },
          "metadata": {},
          "execution_count": 5
        }
      ]
    }
  ]
}